{
  "cells": [
    {
      "cell_type": "markdown",
      "metadata": {
        "id": "view-in-github",
        "colab_type": "text"
      },
      "source": [
        "<a href=\"https://colab.research.google.com/github/AntoniXGaudi/Data_Analysis_1/blob/main/Assignment.ipynb\" target=\"_parent\"><img src=\"https://colab.research.google.com/assets/colab-badge.svg\" alt=\"Open In Colab\"/></a>"
      ]
    },
    {
      "cell_type": "code",
      "execution_count": null,
      "id": "6770991b",
      "metadata": {
        "id": "6770991b"
      },
      "outputs": [],
      "source": [
        "# CONFIDENCE INTERVALS\n",
        "\n",
        "# EXERCISE 1. \n",
        "\n",
        "# What is the normal body temperature for healthy humans? A random sample of 130 healthy human body temperatures \n",
        "# provided by Allen Shoemaker yielded 98.25 degrees and standard deviation 0.73 degrees. \n"
      ]
    },
    {
      "cell_type": "code",
      "execution_count": null,
      "id": "dda05980",
      "metadata": {
        "id": "dda05980"
      },
      "outputs": [],
      "source": [
        "import numpy as np\n",
        "from scipy import stats\n",
        "import pandas as pd      \n",
        "import warnings\n",
        "import seaborn as sns\n",
        "from scipy import stats"
      ]
    },
    {
      "cell_type": "code",
      "execution_count": null,
      "id": "8cdde530",
      "metadata": {
        "id": "8cdde530",
        "outputId": "3e364a71-a3c0-4768-c861-5d76d565dc1e"
      },
      "outputs": [
        {
          "data": {
            "text/plain": [
              "(98.08260738705933, 98.41739261294067)"
            ]
          },
          "execution_count": 3,
          "metadata": {},
          "output_type": "execute_result"
        }
      ],
      "source": [
        "ci_t = stats.t.interval(0.99,     \n",
        "                        129, # | the only difference from ci_z: we must specify the degrees of freedom\n",
        "                        loc=98.25, \n",
        "                        scale=0.73/(130 ** 0.5))\n",
        "ci_t"
      ]
    },
    {
      "cell_type": "code",
      "execution_count": null,
      "id": "c3762e23",
      "metadata": {
        "id": "c3762e23"
      },
      "outputs": [],
      "source": [
        "# EXERCISE 2. \n",
        "\n",
        "# The administrators for a hospital wished to estimate the average number of days required for inpatient treatment of\n",
        "# patients between the ages of 25 and 34. A random sample of 500 hospital patients between these ages produced a mean and \n",
        "# standard deviation equal to 5.4 and 3.1 days, respectively."
      ]
    },
    {
      "cell_type": "code",
      "execution_count": null,
      "id": "13a5d397",
      "metadata": {
        "id": "13a5d397",
        "outputId": "55fc49cc-8838-49db-ea34-9cdbded3eff1"
      },
      "outputs": [
        {
          "data": {
            "text/plain": [
              "(5.127617354510309, 5.672382645489692)"
            ]
          },
          "execution_count": 5,
          "metadata": {},
          "output_type": "execute_result"
        }
      ],
      "source": [
        "ci_t = stats.t.interval(0.95, 499, loc=5.4, scale=(3.1/(500 ** 0.5)))  # 3.1 = std of population, sem = std/(n ** 0.5)\n",
        "ci_t"
      ]
    },
    {
      "cell_type": "code",
      "execution_count": null,
      "id": "9a388c5a",
      "metadata": {
        "id": "9a388c5a"
      },
      "outputs": [],
      "source": [
        "# ci_t = (0, 11.49066)"
      ]
    },
    {
      "cell_type": "code",
      "execution_count": null,
      "id": "8b39e09f",
      "metadata": {
        "id": "8b39e09f"
      },
      "outputs": [],
      "source": [
        "# EXERCISE 3\n",
        "\n",
        "# The hourly wages in a particular industry are normally distributed with mean $13.20 and standard deviation $2.50. \n",
        "# A company in this industry employs 40 workers, paying them an average of $12.20 per hour. Can this company be accused of \n",
        "# paying substandard wages? Use an α = .01 level test"
      ]
    },
    {
      "cell_type": "code",
      "execution_count": null,
      "id": "80bd046a",
      "metadata": {
        "id": "80bd046a",
        "outputId": "8c3e7154-dcef-40d0-b0d8-e78c0988025e"
      },
      "outputs": [
        {
          "name": "stdout",
          "output_type": "stream",
          "text": [
            "T-value: -2.5298221281347035\n",
            "Critical Value: -2.425841409735629\n",
            "P-value: 0.0077816812266594355\n",
            "The company can be accused of paying substandard wages.\n"
          ]
        }
      ],
      "source": [
        "# stats.ttest_1samp()  cannot be used since we only have the mean and n, but not the sample itself!\n",
        "\n",
        "import math\n",
        "from scipy import stats\n",
        "from scipy.stats import t\n",
        "\n",
        "# Population parameters\n",
        "mu = 13.20\n",
        "sigma = 2.50\n",
        "\n",
        "# Sample parameters\n",
        "n = 40\n",
        "x_bar = 12.20\n",
        "\n",
        "# Hypothesis test\n",
        "alpha = 0.01\n",
        "\n",
        "\n",
        "# Calculate the degrees of freedom\n",
        "degrees_of_freedom = n - 1\n",
        "\n",
        "# Calculate the critical value for a one-tailed test\n",
        "t_crit = stats.t.ppf(alpha, degrees_of_freedom)\n",
        "\n",
        "t_value = (x_bar - mu) / (sigma / (40 ** 0.5))\n",
        "\n",
        "p_value = t.sf(np.abs(t_value), degrees_of_freedom ) \n",
        "\n",
        "\n",
        "print(\"T-value:\", t_value)\n",
        "print(\"Critical Value:\", t_crit)\n",
        "print(\"P-value:\", p_value)\n",
        "\n",
        "if t_value < t_crit:\n",
        "    print(\"The company can be accused of paying substandard wages.\")\n",
        "else:\n",
        "    print(\"There is not enough evidence to accuse the company of paying substandard wages.\")"
      ]
    },
    {
      "cell_type": "code",
      "execution_count": null,
      "id": "a7abeef3",
      "metadata": {
        "id": "a7abeef3"
      },
      "outputs": [],
      "source": [
        "# EXERCISE 4.Shear strength measurements derived from unconfined compression tests for two types of soils gave the results \n",
        "# shown in the following document (measurements in tons per square foot). Do the soils appear to differ with respect to average \n",
        "# shear strength, at the 1% significance level? "
      ]
    },
    {
      "cell_type": "code",
      "execution_count": null,
      "id": "d7f15740",
      "metadata": {
        "id": "d7f15740",
        "outputId": "0a67c882-54cb-4cfa-befe-847aaab4e637"
      },
      "outputs": [
        {
          "name": "stdout",
          "output_type": "stream",
          "text": [
            "p_value_levene = LeveneResult(statistic=0.31486292982090475, pvalue=0.5767018253541134)\n",
            "var_soil1 = 0.041381826666666656\n",
            "var_soil2 = 0.04666912979591836\n",
            "t_stat = 5.1681473319343345\n",
            "p_value = 2.593228732352821e-06\n",
            "The soils appear to differ with respect to average shear strength at the 1% significance level.\n"
          ]
        }
      ],
      "source": [
        "soil1 = [1.442, 1.943, 1.11, 1.912, 1.553, 1.641, 1.499, 1.347, 1.685, 1.578, 1.866, 1.653, 1.665, 1.64, 1.976, 1.754, 1.589, 1.976, 1.863, 1.932, 1.57, 1.613, 2.054, 1.55, 1.714, 1.896, 1.737, 1.74, 1.708, 1.548]\n",
        "soil2 = [1.364, 1.878, 1.337, 1.828, 1.371, 1.428, 1.119, 1.373, 1.589, 1.714, 1.26, 1.492, 1.395, 1.778, 1.611, 1.202, 1.542, 1.094, 1.557, 1.053, 1.183, 1.367, 1.144, 1.151, 1.561, 1.192, 1.489, 1.379, 1.501, 1.277, 1.593, 1.172, 1.51, 1.74, 1.355]\n",
        "\n",
        "alpha = 0.01\n",
        "\n",
        "\n",
        "p_value_levene = stats.levene(soil1, soil2)\n",
        "print(f\"p_value_levene = {p_value_levene}\")\n",
        "\n",
        "# with a p-value of 0.5767 and assuming an alpha of 0.05, we fail to reject the null hypothesis. This means we don't have \n",
        "# enough evidence to conclude that the variances are different, so we assume equal variances. \n",
        "\n",
        "var_soil1 = np.var(soil1)\n",
        "var_soil2 = np.var(soil2)\n",
        "print(f\"var_soil1 = {var_soil1}\")\n",
        "print(f\"var_soil2 = {var_soil2}\")\n",
        "\n",
        "t_stat, p_value = stats.ttest_ind(soil1, soil2, equal_var=True)\n",
        "\n",
        "print(f\"t_stat = {t_stat}\")\n",
        "print(f\"p_value = {p_value}\")\n",
        "\n",
        "if p_value < alpha:\n",
        "    print(\"The soils appear to differ with respect to average shear strength at the 1% significance level.\")\n",
        "else:\n",
        "    print(\"There is not enough evidence to conclude that the soils differ with respect to average shear strength at the 1% significance level.\")\n"
      ]
    },
    {
      "cell_type": "code",
      "execution_count": null,
      "id": "070bb055",
      "metadata": {
        "id": "070bb055"
      },
      "outputs": [],
      "source": [
        "# EXERCISE 5. The following dataset is based on data provided by the World Bank \n",
        "# (https://datacatalog.worldbank.org/dataset/education-statistics). World Bank Edstats.  2015 PISA Test Dataset\n",
        "\n",
        "# Get descriptive statistics (the central tendency, dispersion and shape of a dataset’s distribution) for each continent group (AS, EU, AF, NA, SA, OC).\n",
        "# Determine whether there is any difference (on the average) for the math scores among European (EU) and Asian (AS) countries (assume normality and equal variances). Draw side-by-side box plots.\n",
        "\n",
        "# CHECK: statistic=0.870055317967983, pvalue=0.38826888111307345\n",
        "    "
      ]
    },
    {
      "cell_type": "code",
      "execution_count": null,
      "id": "ce44c818",
      "metadata": {
        "id": "ce44c818",
        "outputId": "8e4789a1-69e9-440a-b84c-436e0b31803e"
      },
      "outputs": [
        {
          "name": "stdout",
          "output_type": "stream",
          "text": [
            "  Country Code Continent_Code  internet_users_per_100      Math   Reading  \\\n",
            "0          ALB             EU               63.252933  413.1570  405.2588   \n",
            "1          ARE             AS               90.500000  427.4827  433.5423   \n",
            "2          ARG            SAM               68.043064  409.0333  425.3031   \n",
            "3          AUS             OC               84.560519  493.8962  502.9006   \n",
            "4          AUT             EU               83.940142  496.7423  484.8656   \n",
            "\n",
            "    Science  \n",
            "0  427.2250  \n",
            "1  436.7311  \n",
            "2  432.2262  \n",
            "3  509.9939  \n",
            "4  495.0375  \n",
            "Dimensions = (70, 6)\n",
            "\n",
            "\n",
            "Continent Codes: ['EU' 'AS' 'SAM' 'OC' 'NAM' 'AF']\n",
            "\n",
            "\n",
            "AF\n",
            "count      2.000000\n",
            "mean     363.212100\n",
            "std        5.099513\n",
            "min      359.606200\n",
            "25%      361.409150\n",
            "50%      363.212100\n",
            "75%      365.015050\n",
            "max      366.818000\n",
            "Name: Math, dtype: float64\n",
            "\n",
            "AS\n",
            "count     17.000000\n",
            "mean     466.216647\n",
            "std       64.356490\n",
            "min      380.259000\n",
            "25%      403.833200\n",
            "50%      459.816000\n",
            "75%      531.296100\n",
            "max      564.189700\n",
            "Name: Math, dtype: float64\n",
            "\n",
            "EU\n",
            "count     37.000000\n",
            "mean     477.981449\n",
            "std       35.150403\n",
            "min      371.311400\n",
            "25%      464.040100\n",
            "50%      489.728700\n",
            "75%      503.722000\n",
            "max      521.250600\n",
            "Name: Math, dtype: float64\n",
            "\n",
            "NAM\n",
            "count      5.000000\n",
            "mean     424.250960\n",
            "std       71.717058\n",
            "min      327.702000\n",
            "25%      400.253400\n",
            "50%      408.023500\n",
            "75%      469.628500\n",
            "max      515.647400\n",
            "Name: Math, dtype: float64\n",
            "\n",
            "OC\n",
            "count      2.000000\n",
            "mean     494.559750\n",
            "std        0.938401\n",
            "min      493.896200\n",
            "25%      494.227975\n",
            "50%      494.559750\n",
            "75%      494.891525\n",
            "max      495.223300\n",
            "Name: Math, dtype: float64\n",
            "\n",
            "SAM\n",
            "count      7.000000\n",
            "mean     402.887700\n",
            "std       18.128894\n",
            "min      377.069500\n",
            "25%      388.102200\n",
            "50%      409.033300\n",
            "75%      417.617650\n",
            "max      422.671400\n",
            "Name: Math, dtype: float64\n",
            "\n",
            "t = 0.870, p = 0.388\n"
          ]
        },
        {
          "data": {
            "image/png": "[encoded data removed]",
            "text/plain": [
              "<Figure size 640x480 with 1 Axes>"
            ]
          },
          "metadata": {},
          "output_type": "display_data"
        }
      ],
      "source": [
        "import matplotlib.pyplot as plt\n",
        "\n",
        "# Load the data into a pandas DataFrame\n",
        "df = pd.read_excel(\"C:/Data Science/Statistics/Assigments/2015 PISA Test.xlsx\")\n",
        "\n",
        "print(df.head())\n",
        "print(f\"Dimensions = {df.shape}\")\n",
        "print(\"\\n\")\n",
        "print(f\"Continent Codes: {df['Continent_Code'].unique()}\")   # NA created NaNs for North America, so I changed NA to NAM and SA to SAM\n",
        "print(\"\\n\")\n",
        "\n",
        "# Get descriptive statistics for each continent group\n",
        "grouped = df.groupby('Continent_Code')\n",
        "\n",
        "\n",
        "for continent, data in grouped:\n",
        "    print(continent)\n",
        "    print(data['Math'].describe())\n",
        "    print()\n",
        "\n",
        "# Test for a difference in math scores between EU and AS countries\n",
        "eu_scores = df.loc[df['Continent_Code'] == 'EU']['Math']\n",
        "as_scores = df.loc[df['Continent_Code'] == 'AS']['Math']\n",
        "t, p = stats.ttest_ind(eu_scores, as_scores, equal_var=True)\n",
        "print(f\"t = {t:.3f}, p = {p:.3f}\")\n",
        "\n",
        "# Create side-by-side box plots of math scores for EU and AS countries\n",
        "plt.boxplot([eu_scores, as_scores], labels=['EU', 'AS'])\n",
        "plt.title('Math Scores by Continent')\n",
        "plt.xlabel('Continent_Code')\n",
        "plt.ylabel('Math Score')\n",
        "plt.show()"
      ]
    },
    {
      "cell_type": "code",
      "execution_count": null,
      "id": "af8e9bee",
      "metadata": {
        "id": "af8e9bee"
      },
      "outputs": [],
      "source": []
    }
  ],
  "metadata": {
    "kernelspec": {
      "display_name": "Python 3 (ipykernel)",
      "language": "python",
      "name": "python3"
    },
    "language_info": {
      "codemirror_mode": {
        "name": "ipython",
        "version": 3
      },
      "file_extension": ".py",
      "mimetype": "text/x-python",
      "name": "python",
      "nbconvert_exporter": "python",
      "pygments_lexer": "ipython3",
      "version": "3.9.13"
    },
    "colab": {
      "provenance": [],
      "include_colab_link": true
    }
  },
  "nbformat": 4,
  "nbformat_minor": 5
}